{
 "cells": [
  {
   "cell_type": "code",
   "execution_count": null,
   "metadata": {},
   "outputs": [],
   "source": [
    "####### Trying to implement Micrograd #######"
   ]
  },
  {
   "cell_type": "code",
   "execution_count": 1,
   "metadata": {},
   "outputs": [],
   "source": [
    "import math "
   ]
  },
  {
   "cell_type": "code",
   "execution_count": 1,
   "metadata": {},
   "outputs": [
    {
     "name": "stdout",
     "output_type": "stream",
     "text": [
      "Value = 5\n",
      "Value = 11\n",
      "Value = 24\n",
      "Value = 2.6666666666666665\n"
     ]
    },
    {
     "data": {
      "text/plain": [
       "'+'"
      ]
     },
     "execution_count": 1,
     "metadata": {},
     "output_type": "execute_result"
    }
   ],
   "source": [
    "class Value:\n",
    "    def __init__(self,data,children=(),op='',label=''):\n",
    "        # initialize data \n",
    "        self.data = data \n",
    "        # t\n",
    "        self._prev = children\n",
    "        self._op = op\n",
    "        self._label = label\n",
    "        self.grad = 0.0\n",
    "\n",
    "    def __repr__(self):\n",
    "        # __repr__ is a way to beautify the output  \n",
    "        return f'Value = {self.data}'\n",
    "    def __add__(self,next_operand):\n",
    "        operation = self.data+next_operand.data\n",
    "        return Value(operation,(self,next_operand),'+')\n",
    "\n",
    "    def __sub__(self,next_operand):\n",
    "        operation = self.data - next_operand.data\n",
    "        return Value(operation,(self,next_operand),'-')\n",
    "\n",
    "    def __mul__(self,next_operand):\n",
    "        operation = self.data * next_operand.data\n",
    "        return Value(operation,(self,next_operand),'*')\n",
    "    \n",
    "    def __truediv__(self,next_operand):\n",
    "        operation = self.data/next_operand.data\n",
    "        return Value(operation,(self,next_operand),'/')\n",
    "\n",
    "a = Value(8)\n",
    "\n",
    "b = Value(3)\n",
    "print(a-b)\n",
    "print(a+b)\n",
    "print(a*b)\n",
    "print(a/b)\n",
    "d = a+b\n",
    "d._op"
   ]
  },
  {
   "cell_type": "code",
   "execution_count": 7,
   "metadata": {},
   "outputs": [
    {
     "name": "stdout",
     "output_type": "stream",
     "text": [
      "derivative without calculus =  0.5590180450143478\n",
      "derivative from the calculus formula =  0.559055167732244\n"
     ]
    }
   ],
   "source": [
    "\n",
    "# Return the hyperbolic tangent of different numbers\n",
    "num = 0.8\n",
    "a = math.tanh(num)\n",
    "h = 0.0001 \n",
    "ah = math.tanh(num+h)\n",
    "print('derivative without calculus = ', (ah-a)/h)\n",
    "print('derivative from the calculus formula = ', 1 -a**2)"
   ]
  },
  {
   "cell_type": "code",
   "execution_count": null,
   "metadata": {},
   "outputs": [],
   "source": []
  }
 ],
 "metadata": {
  "kernelspec": {
   "display_name": "Python 3",
   "language": "python",
   "name": "python3"
  },
  "language_info": {
   "codemirror_mode": {
    "name": "ipython",
    "version": 3
   },
   "file_extension": ".py",
   "mimetype": "text/x-python",
   "name": "python",
   "nbconvert_exporter": "python",
   "pygments_lexer": "ipython3",
   "version": "3.9.6"
  }
 },
 "nbformat": 4,
 "nbformat_minor": 2
}
